{
 "cells": [
  {
   "cell_type": "code",
   "execution_count": 1,
   "id": "c1ac974d-a911-4745-9d90-103bea694030",
   "metadata": {},
   "outputs": [
    {
     "name": "stdout",
     "output_type": "stream",
     "text": [
      "Input list: [1, 2, 3, 4, [5, 6, [7, 8], 8, 9]]\n",
      "[[5, 6, [7, 8], 8, 9]]\n",
      "[5, 6, [7, 8], 8, 9]\n",
      "[[7, 8]]\n",
      "[7, 8]\n"
     ]
    },
    {
     "data": {
      "text/plain": [
       "[8, 9]"
      ]
     },
     "execution_count": 1,
     "metadata": {},
     "output_type": "execute_result"
    }
   ],
   "source": [
    "#Program that returns innermost list +1\n",
    "\n",
    "def add_inner_list(input_list):\n",
    "    \n",
    "    print(f\"Input list: {input_list}\") \n",
    "    \n",
    "    my_list = input_list #Redefine input_list \n",
    "    \n",
    "    while True:\n",
    "        if any(isinstance(item, list) for item in my_list): #any() to find lists that are in mylist to navigate to innermost list\n",
    "            my_list = [item for item in my_list if isinstance(item, list)] #redefine list\n",
    "            print(my_list) #check content of my_list\n",
    "            if my_list:\n",
    "                my_list = my_list[-1] #redefine my_list to interate from last index\n",
    "                print(my_list) #check content of my_list\n",
    "            else:\n",
    "                break\n",
    "        else:\n",
    "            break\n",
    "\n",
    "#Add 1 to last list \n",
    "    if isinstance(my_list, list):\n",
    "        add_one = [x + 1 for x in my_list] #create new list to add 1 to innermost list once while loop determines innermost list item\n",
    "        return add_one\n",
    "    else: \n",
    "        return []\n",
    "\n",
    "#Test input list\n",
    "input_list = [1, 2, 3, 4, [5, 6, [7,8], 8, 9]]\n",
    "add_inner_list(input_list)"
   ]
  },
  {
   "cell_type": "code",
   "execution_count": null,
   "id": "837f9e89-f205-45f3-ad0c-71a13dedec3c",
   "metadata": {},
   "outputs": [],
   "source": []
  }
 ],
 "metadata": {
  "kernelspec": {
   "display_name": "Python 3 (ipykernel)",
   "language": "python",
   "name": "python3"
  },
  "language_info": {
   "codemirror_mode": {
    "name": "ipython",
    "version": 3
   },
   "file_extension": ".py",
   "mimetype": "text/x-python",
   "name": "python",
   "nbconvert_exporter": "python",
   "pygments_lexer": "ipython3",
   "version": "3.12.5"
  }
 },
 "nbformat": 4,
 "nbformat_minor": 5
}
