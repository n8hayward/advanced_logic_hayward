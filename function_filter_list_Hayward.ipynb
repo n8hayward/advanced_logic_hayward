{
 "cells": [
  {
   "cell_type": "code",
   "execution_count": 48,
   "id": "0548b523-58c2-40bc-9016-43fd77d1b439",
   "metadata": {},
   "outputs": [
    {
     "data": {
      "text/plain": [
       "[1, 2, 3, 4, 5, 6]"
      ]
     },
     "execution_count": 48,
     "metadata": {},
     "output_type": "execute_result"
    }
   ],
   "source": [
    "#Write a python program that, given an input list, will filter the input above a user defined threshold. This is to be done with a standard function.\n",
    "#return [1,2,3,4,5,6]\n",
    "\n",
    "def function_filter (input_list, threshold):\n",
    "\n",
    "    if threshold <= len(input_list): #test if the threshold is set too high\n",
    "        cut_variable = 0 \n",
    "        filtered_list=[] #creates empty list\n",
    "        for i in input_list:\n",
    "            while cut_variable < threshold: \n",
    "                cut_variable +=1\n",
    "                filtered_list.append(input_list[cut_variable-1])\n",
    "                #print(filtered_list) check work\n",
    "        return filtered_list #returns final filtered list\n",
    "    else: #prints an error if threshold is too high\n",
    "        print(f'Error: the threshold {threshold} is greater than or equal to the input list length, try reducing the threshold by 1 or more integers')\n",
    "\n",
    "input_list = [1,2,3,4,5,6,7,8,9] #sample input list\n",
    "threshold = 6 #sample threshold\n",
    "function_filter(input_list, threshold)"
   ]
  }
 ],
 "metadata": {
  "kernelspec": {
   "display_name": "Python 3 (ipykernel)",
   "language": "python",
   "name": "python3"
  },
  "language_info": {
   "codemirror_mode": {
    "name": "ipython",
    "version": 3
   },
   "file_extension": ".py",
   "mimetype": "text/x-python",
   "name": "python",
   "nbconvert_exporter": "python",
   "pygments_lexer": "ipython3",
   "version": "3.12.5"
  }
 },
 "nbformat": 4,
 "nbformat_minor": 5
}
