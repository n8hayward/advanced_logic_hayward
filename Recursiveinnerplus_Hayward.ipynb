{
 "cells": [
  {
   "cell_type": "code",
   "execution_count": 30,
   "id": "5bf2349b-381c-41d8-96f5-c81f950289f7",
   "metadata": {},
   "outputs": [
    {
     "name": "stdout",
     "output_type": "stream",
     "text": [
      "[2, 4]\n"
     ]
    }
   ],
   "source": [
    "def recursive_innermost(input_list):\n",
    "    \n",
    "    innermost_list = [] #define innermost_list\n",
    "\n",
    "    for item in input_list:\n",
    "        if isinstance(item, list): #test if the item is a list\n",
    "            innermost_list = recursive_innermost(item) #run the function recursively for innermost list\n",
    "        else: #if item is no longer a list, we have reached the innermost list and now have secondary task to add 1 to list items\n",
    "            innermost_list.append(item + 1) \n",
    "    return innermost_list #return the innermost appended list\n",
    "\n",
    "input_list = [1, 2, 3, 4, [5, 6, 7, [8, 9]], [1,3]] #test input list\n",
    "innerlist_result = recursive_innermost(input_list) #output \n",
    "print(innerlist_result)  # Output should be [2, 4]\n"
   ]
  }
 ],
 "metadata": {
  "kernelspec": {
   "display_name": "Python 3 (ipykernel)",
   "language": "python",
   "name": "python3"
  },
  "language_info": {
   "codemirror_mode": {
    "name": "ipython",
    "version": 3
   },
   "file_extension": ".py",
   "mimetype": "text/x-python",
   "name": "python",
   "nbconvert_exporter": "python",
   "pygments_lexer": "ipython3",
   "version": "3.12.5"
  }
 },
 "nbformat": 4,
 "nbformat_minor": 5
}
